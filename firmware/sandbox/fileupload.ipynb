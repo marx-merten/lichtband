{
 "cells": [
  {
   "cell_type": "code",
   "execution_count": 4,
   "source": [
    "import os\n",
    "import requests\n",
    "def walk_dir(path,prefix=\"\"):\n",
    "    results=[]\n",
    "    for f in os.listdir(path):\n",
    "        if os.path.isfile(path+f):\n",
    "            results.append(prefix+f)\n",
    "        if os.path.isdir(path+f):\n",
    "            results+=walk_dir(path+f+\"/\",prefix+f+\"/\")\n",
    "    return results\n",
    "        "
   ],
   "outputs": [],
   "metadata": {}
  },
  {
   "cell_type": "code",
   "execution_count": 13,
   "source": [
    "\n",
    "#requests.put()\n",
    "requests.delete(url=\"http://172.17.100.43/fs/dir/html?recurse=true\")\n"
   ],
   "outputs": [
    {
     "output_type": "execute_result",
     "data": {
      "text/plain": [
       "<Response [200]>"
      ]
     },
     "metadata": {},
     "execution_count": 13
    }
   ],
   "metadata": {}
  },
  {
   "cell_type": "code",
   "execution_count": 14,
   "source": [
    "\n",
    "basedir=\"../../adminweb/build/\"\n",
    "for f in walk_dir(basedir):\n",
    "    url = \"http://172.17.100.43/fs/file/html/{}\".format(f)\n",
    "    file = \"{}{}\".format(basedir,f)\n",
    "    print(\"uploaded {} to {}\".format(file,url))\n",
    "    requests.put(url=url,data=open(file,\"rb\"))"
   ],
   "outputs": [
    {
     "output_type": "stream",
     "name": "stdout",
     "text": [
      "http://172.17.100.43/fs/file/html/scenes/index.html\n",
      "../../adminweb/build/scenes/index.html\n",
      "http://172.17.100.43/fs/file/html/index.html\n",
      "../../adminweb/build/index.html\n",
      "http://172.17.100.43/fs/file/html/status/index.html\n",
      "../../adminweb/build/status/index.html\n",
      "http://172.17.100.43/fs/file/html/cfg/index.html\n",
      "../../adminweb/build/cfg/index.html\n",
      "http://172.17.100.43/fs/file/html/favicon.png\n",
      "../../adminweb/build/favicon.png\n",
      "http://172.17.100.43/fs/file/html/light/index.html\n",
      "../../adminweb/build/light/index.html\n",
      "http://172.17.100.43/fs/file/html/_app/error.svelte-2dbf7619.js\n",
      "../../adminweb/build/_app/error.svelte-2dbf7619.js\n",
      "http://172.17.100.43/fs/file/html/_app/chunks/singletons-12a22614.js\n",
      "../../adminweb/build/_app/chunks/singletons-12a22614.js\n",
      "http://172.17.100.43/fs/file/html/_app/chunks/vendor-0338ce4b.js\n",
      "../../adminweb/build/_app/chunks/vendor-0338ce4b.js\n",
      "http://172.17.100.43/fs/file/html/_app/start-a786c9a6.js\n",
      "../../adminweb/build/_app/start-a786c9a6.js\n",
      "http://172.17.100.43/fs/file/html/_app/assets/start-464e9d0a.css\n",
      "../../adminweb/build/_app/assets/start-464e9d0a.css\n",
      "http://172.17.100.43/fs/file/html/_app/assets/pages/__layout.svelte-0bc17e5b.css\n",
      "../../adminweb/build/_app/assets/pages/__layout.svelte-0bc17e5b.css\n",
      "http://172.17.100.43/fs/file/html/_app/pages/scenes/index.svelte-495bff5b.js\n",
      "../../adminweb/build/_app/pages/scenes/index.svelte-495bff5b.js\n",
      "http://172.17.100.43/fs/file/html/_app/pages/index.svelte-6e93bd3f.js\n",
      "../../adminweb/build/_app/pages/index.svelte-6e93bd3f.js\n",
      "http://172.17.100.43/fs/file/html/_app/pages/status/index.svelte-b7cc3a9c.js\n",
      "../../adminweb/build/_app/pages/status/index.svelte-b7cc3a9c.js\n",
      "http://172.17.100.43/fs/file/html/_app/pages/cfg/index.svelte-c2ec1772.js\n",
      "../../adminweb/build/_app/pages/cfg/index.svelte-c2ec1772.js\n",
      "http://172.17.100.43/fs/file/html/_app/pages/__layout.svelte-b913ae29.js\n",
      "../../adminweb/build/_app/pages/__layout.svelte-b913ae29.js\n",
      "http://172.17.100.43/fs/file/html/_app/pages/light/index.svelte-8ea4f48b.js\n",
      "../../adminweb/build/_app/pages/light/index.svelte-8ea4f48b.js\n"
     ]
    }
   ],
   "metadata": {}
  },
  {
   "cell_type": "code",
   "execution_count": 5,
   "source": [
    "os.listdir(\"../../adminweb/build/scenes/\")"
   ],
   "outputs": [
    {
     "output_type": "execute_result",
     "data": {
      "text/plain": [
       "['index.html']"
      ]
     },
     "metadata": {},
     "execution_count": 5
    }
   ],
   "metadata": {}
  }
 ],
 "metadata": {
  "orig_nbformat": 4,
  "language_info": {
   "name": "python",
   "version": "3.8.5",
   "mimetype": "text/x-python",
   "codemirror_mode": {
    "name": "ipython",
    "version": 3
   },
   "pygments_lexer": "ipython3",
   "nbconvert_exporter": "python",
   "file_extension": ".py"
  },
  "kernelspec": {
   "name": "python3",
   "display_name": "Python 3.8.5 64-bit ('3.8.5': pyenv)"
  },
  "interpreter": {
   "hash": "d484d7b95c8b696765b403a6b75decad8910169c44d6bbfdbfce13cf701948a2"
  }
 },
 "nbformat": 4,
 "nbformat_minor": 2
}